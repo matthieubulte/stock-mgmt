{
 "cells": [
  {
   "cell_type": "code",
   "execution_count": 1,
   "id": "db28ffdf",
   "metadata": {
    "ExecuteTime": {
     "end_time": "2023-04-27T07:47:23.335607Z",
     "start_time": "2023-04-27T07:47:22.623384Z"
    }
   },
   "outputs": [],
   "source": [
    "import pandas as pd\n",
    "import numpy as np\n",
    "import matplotlib.pyplot as plt\n",
    "import cvxpy as cp"
   ]
  },
  {
   "cell_type": "code",
   "execution_count": 6,
   "id": "b64b72af",
   "metadata": {
    "ExecuteTime": {
     "end_time": "2023-04-27T08:02:04.785307Z",
     "start_time": "2023-04-27T08:02:01.066806Z"
    }
   },
   "outputs": [],
   "source": [
    "filename = '../Gestion allocations'\n",
    "o_stock_df = pd.read_excel(f'{filename}.xlsx', sheet_name=1, skiprows=0, thousands=',')\n",
    "o_orders_df = pd.read_excel(f'{filename}.xlsx', sheet_name=0, skiprows=0)"
   ]
  },
  {
   "cell_type": "code",
   "execution_count": 8,
   "id": "6eed4f36",
   "metadata": {},
   "outputs": [
    {
     "data": {
      "text/html": [
       "<div>\n",
       "<style scoped>\n",
       "    .dataframe tbody tr th:only-of-type {\n",
       "        vertical-align: middle;\n",
       "    }\n",
       "\n",
       "    .dataframe tbody tr th {\n",
       "        vertical-align: top;\n",
       "    }\n",
       "\n",
       "    .dataframe thead th {\n",
       "        text-align: right;\n",
       "    }\n",
       "</style>\n",
       "<table border=\"1\" class=\"dataframe\">\n",
       "  <thead>\n",
       "    <tr style=\"text-align: right;\">\n",
       "      <th></th>\n",
       "      <th>Article</th>\n",
       "      <th>Stock corrigé</th>\n",
       "    </tr>\n",
       "  </thead>\n",
       "  <tbody>\n",
       "    <tr>\n",
       "      <th>462</th>\n",
       "      <td>028059</td>\n",
       "      <td>3412386.116</td>\n",
       "    </tr>\n",
       "  </tbody>\n",
       "</table>\n",
       "</div>"
      ],
      "text/plain": [
       "    Article  Stock corrigé\n",
       "462  028059    3412386.116"
      ]
     },
     "execution_count": 8,
     "metadata": {},
     "output_type": "execute_result"
    }
   ],
   "source": [
    "o_stock_df[o_stock_df['Article'] == '028059']"
   ]
  },
  {
   "cell_type": "code",
   "execution_count": 115,
   "id": "847ea163",
   "metadata": {},
   "outputs": [
    {
     "name": "stdout",
     "output_type": "stream",
     "text": [
      "Removing row        Étiquettes de lignes N° commande CN  ANMOIS Article  Somme de RAL\n",
      "16965        Total général            NaN     NaN     NaN        345643  from orders\n"
     ]
    }
   ],
   "source": [
    "if o_stock_df.iloc[-1]['Étiquettes de lignes'] == 'Total général':\n",
    "    print('Removing row ', o_stock_df.tail(1), ' from stock')\n",
    "    o_stock_df.drop(o_stock_df.tail(1).index, inplace=True)\n",
    "\n",
    "if o_orders_df.iloc[-1]['Étiquettes de lignes'] == 'Total général':\n",
    "    print('Removing row ', o_orders_df.tail(1), ' from orders')\n",
    "    o_orders_df.drop(o_orders_df.tail(1).index, inplace=True)"
   ]
  },
  {
   "cell_type": "code",
   "execution_count": 4,
   "id": "c23a4c4d",
   "metadata": {
    "ExecuteTime": {
     "end_time": "2023-04-27T08:01:50.048419Z",
     "start_time": "2023-04-27T08:01:49.913122Z"
    }
   },
   "outputs": [
    {
     "name": "stdout",
     "output_type": "stream",
     "text": [
      "# stock item type missing = 3025\n",
      "# orders affected = 1805\n"
     ]
    },
    {
     "data": {
      "text/plain": [
       "(20052, 20052)"
      ]
     },
     "execution_count": 4,
     "metadata": {},
     "output_type": "execute_result"
    }
   ],
   "source": [
    "SRC_ORDERS_ID = 'N° commande CN'\n",
    "SRC_ORDERS_ARTICLE = 'Article'\n",
    "SRC_ORDERS_QTY = 'Somme de RAL'\n",
    "\n",
    "SRC_STOCK_ID = 'Article'\n",
    "SRC_STOCK_QTY = 'Qté US'\n",
    "\n",
    "orders_df = o_orders_df[[SRC_ORDERS_ID, SRC_ORDERS_ARTICLE, SRC_ORDERS_QTY]].rename({\n",
    "    SRC_ORDERS_ID: 'order_id',\n",
    "    SRC_ORDERS_ARTICLE: 'article_id',\n",
    "    SRC_ORDERS_QTY: 'quantity'\n",
    "}, axis=1)\n",
    "\n",
    "stock_df = o_stock_df.reset_index().rename({\n",
    "    SRC_STOCK_ID: 'article_id',\n",
    "    SRC_STOCK_QTY: 'stock'\n",
    "}, axis=1).groupby('article_id').sum(numeric_only=True).reset_index()\n",
    "\n",
    "# some stocks are negative, fix this\n",
    "stock_df.loc[stock_df['stock'] < 0, 'stock'] = 0\n",
    "\n",
    "tmp_order_df = pd.merge(orders_df, stock_df, on='article_id', how='left')\n",
    "missing_stock_ids = tmp_order_df[tmp_order_df.stock.isna()].article_id.unique()\n",
    "missing_stock_df = pd.DataFrame({'article_id': missing_stock_ids, 'stock': np.zeros_like(missing_stock_ids)})\n",
    "\n",
    "print(f\"# stock item type missing = {missing_stock_df.shape[0]}\")\n",
    "print(f\"# orders affected = {tmp_order_df[tmp_order_df.stock.isna()].order_id.nunique()}\")\n",
    "\n",
    "stock_df = pd.concat([stock_df, missing_stock_df]).reset_index(drop=True)\n",
    "stock_df['article_index'] = stock_df.index\n",
    "\n",
    "orders_df = pd.merge(orders_df, stock_df, on='article_id')\n",
    "\n",
    "order_id_to_idx = dict([ (oid, idx) for (idx, oid) in enumerate(orders_df['order_id'].unique()) ])\n",
    "orders_df['order_index'] = orders_df['order_id'].map(order_id_to_idx)\n",
    "\n",
    "orders_df['stock_available'] = orders_df['quantity'] <= orders_df['stock']\n",
    "order_to_available_df = orders_df.groupby('order_id')['stock_available'].all()\n",
    "orders_df =  pd.merge(orders_df, order_to_available_df, on='order_id', suffixes=('', '_order_total'))\n",
    "\n",
    "o_orders_df.shape[0], orders_df.shape[0]"
   ]
  },
  {
   "cell_type": "code",
   "execution_count": 5,
   "id": "5825f042",
   "metadata": {},
   "outputs": [
    {
     "name": "stdout",
     "output_type": "stream",
     "text": [
      "# orders = 4341\n",
      "# order that cannot be fulfilled = 2001\n",
      "# order that can be fulfilled and will be optimzied over = 2340\n",
      "\ttotal quantity = 74162\n"
     ]
    }
   ],
   "source": [
    "print(f\"# orders = {orders_df['order_id'].nunique()}\")\n",
    "print(f\"# order that cannot be fulfilled = {order_to_available_df.shape[0] - order_to_available_df.sum()}\")\n",
    "print(f\"# order that can be fulfilled and will be optimzied over = {order_to_available_df.sum()}\")\n",
    "print(f\"\\ttotal quantity = {orders_df[orders_df['stock_available_order_total']].quantity.sum()}\")"
   ]
  },
  {
   "cell_type": "code",
   "execution_count": 6,
   "id": "8f67768b",
   "metadata": {
    "ExecuteTime": {
     "end_time": "2023-04-26T21:32:58.101222Z",
     "start_time": "2023-04-26T21:32:56.862076Z"
    }
   },
   "outputs": [
    {
     "name": "stdout",
     "output_type": "stream",
     "text": [
      "orders x stock matrix = (28503, 4341)\n",
      "# orders in books = (4341,)\n",
      "optimizing...\n",
      "found solution\n",
      "\t Solution valid = True\n",
      "# orders fulfilled = 1421.0\n",
      "quantity delivered = 65983\n",
      "\t Opt = 65983.0\n",
      "saving to ../Test 2 mai b_result.xlsx\n"
     ]
    },
    {
     "data": {
      "text/html": [
       "<div>\n",
       "<style scoped>\n",
       "    .dataframe tbody tr th:only-of-type {\n",
       "        vertical-align: middle;\n",
       "    }\n",
       "\n",
       "    .dataframe tbody tr th {\n",
       "        vertical-align: top;\n",
       "    }\n",
       "\n",
       "    .dataframe thead th {\n",
       "        text-align: right;\n",
       "    }\n",
       "</style>\n",
       "<table border=\"1\" class=\"dataframe\">\n",
       "  <thead>\n",
       "    <tr style=\"text-align: right;\">\n",
       "      <th></th>\n",
       "      <th>order_id</th>\n",
       "      <th>article_id</th>\n",
       "      <th>quantity</th>\n",
       "      <th>should_deliver</th>\n",
       "    </tr>\n",
       "  </thead>\n",
       "  <tbody>\n",
       "    <tr>\n",
       "      <th>16</th>\n",
       "      <td>CNS1220210600314</td>\n",
       "      <td>033488T0064S0344</td>\n",
       "      <td>8</td>\n",
       "      <td>1.0</td>\n",
       "    </tr>\n",
       "    <tr>\n",
       "      <th>22</th>\n",
       "      <td>CNS1220210900003</td>\n",
       "      <td>039662T0044S0344</td>\n",
       "      <td>1</td>\n",
       "      <td>1.0</td>\n",
       "    </tr>\n",
       "    <tr>\n",
       "      <th>23</th>\n",
       "      <td>CNS1220220402809</td>\n",
       "      <td>039662T0044S0344</td>\n",
       "      <td>1</td>\n",
       "      <td>1.0</td>\n",
       "    </tr>\n",
       "    <tr>\n",
       "      <th>24</th>\n",
       "      <td>CNS1220220402809</td>\n",
       "      <td>037449T0050L0086</td>\n",
       "      <td>1</td>\n",
       "      <td>1.0</td>\n",
       "    </tr>\n",
       "    <tr>\n",
       "      <th>25</th>\n",
       "      <td>CNS1220220403465</td>\n",
       "      <td>039662T0044S0344</td>\n",
       "      <td>2</td>\n",
       "      <td>1.0</td>\n",
       "    </tr>\n",
       "    <tr>\n",
       "      <th>...</th>\n",
       "      <td>...</td>\n",
       "      <td>...</td>\n",
       "      <td>...</td>\n",
       "      <td>...</td>\n",
       "    </tr>\n",
       "    <tr>\n",
       "      <th>20029</th>\n",
       "      <td>CNS1220220900131</td>\n",
       "      <td>53627</td>\n",
       "      <td>1</td>\n",
       "      <td>1.0</td>\n",
       "    </tr>\n",
       "    <tr>\n",
       "      <th>20030</th>\n",
       "      <td>CNS1220220900131</td>\n",
       "      <td>53628</td>\n",
       "      <td>1</td>\n",
       "      <td>1.0</td>\n",
       "    </tr>\n",
       "    <tr>\n",
       "      <th>20031</th>\n",
       "      <td>CNS1220220900131</td>\n",
       "      <td>57768</td>\n",
       "      <td>2</td>\n",
       "      <td>1.0</td>\n",
       "    </tr>\n",
       "    <tr>\n",
       "      <th>20032</th>\n",
       "      <td>CNS1220220900131</td>\n",
       "      <td>58555</td>\n",
       "      <td>2</td>\n",
       "      <td>1.0</td>\n",
       "    </tr>\n",
       "    <tr>\n",
       "      <th>20033</th>\n",
       "      <td>CNS1220220900131</td>\n",
       "      <td>58764</td>\n",
       "      <td>2</td>\n",
       "      <td>1.0</td>\n",
       "    </tr>\n",
       "  </tbody>\n",
       "</table>\n",
       "<p>4996 rows × 4 columns</p>\n",
       "</div>"
      ],
      "text/plain": [
       "               order_id        article_id  quantity  should_deliver\n",
       "16     CNS1220210600314  033488T0064S0344         8             1.0\n",
       "22     CNS1220210900003  039662T0044S0344         1             1.0\n",
       "23     CNS1220220402809  039662T0044S0344         1             1.0\n",
       "24     CNS1220220402809  037449T0050L0086         1             1.0\n",
       "25     CNS1220220403465  039662T0044S0344         2             1.0\n",
       "...                 ...               ...       ...             ...\n",
       "20029  CNS1220220900131             53627         1             1.0\n",
       "20030  CNS1220220900131             53628         1             1.0\n",
       "20031  CNS1220220900131             57768         2             1.0\n",
       "20032  CNS1220220900131             58555         2             1.0\n",
       "20033  CNS1220220900131             58764         2             1.0\n",
       "\n",
       "[4996 rows x 4 columns]"
      ]
     },
     "execution_count": 6,
     "metadata": {},
     "output_type": "execute_result"
    }
   ],
   "source": [
    "def make_order_matrix(orders_df, num_orders, num_items):\n",
    "    order_qty_matrix = np.zeros((num_items, num_orders))\n",
    "    for _, order in orders_df.iterrows():\n",
    "        order_qty_matrix[order['article_index'], order['order_index']] += order['quantity']\n",
    "    return order_qty_matrix\n",
    "\n",
    "num_items = stock_df['article_index'].max()+1\n",
    "num_orders = orders_df['order_index'].max()+1\n",
    "\n",
    "order_qty_matrix = make_order_matrix(orders_df, num_orders, num_items)\n",
    "order_selection = cp.Variable(name='order_selection', shape=(num_orders,), boolean=True)\n",
    "order_vol = orders_df.groupby('order_index')['quantity'].sum().values\n",
    "\n",
    "print(f\"orders x stock matrix = {order_qty_matrix.shape}\")\n",
    "print(f\"# orders in books = {order_selection.shape}\")\n",
    "\n",
    "prob = cp.Problem(cp.Maximize( order_vol.T @ order_selection ),\n",
    "                 [order_qty_matrix @ order_selection <= stock_df['stock']])\n",
    "\n",
    "print(\"optimizing...\")\n",
    "prob.solve()\n",
    "order_selection_sol = np.round(order_selection.value)\n",
    "\n",
    "# check if rouned solution is still good\n",
    "_o = order_qty_matrix @ order_selection_sol\n",
    "\n",
    "print(\"found solution\")\n",
    "print('\\t Solution valid =', not (_o - stock_df['stock'].values > 1e-10).any())\n",
    "\n",
    "should_deliver = orders_df['order_index'].map(dict(enumerate(order_selection_sol)))\n",
    "\n",
    "print(f\"# orders fulfilled = {order_selection_sol.sum()}\")\n",
    "print(f\"quantity delivered = {orders_df[should_deliver.astype(bool)].quantity.sum()}\")\n",
    "print(f\"\\t Opt = {(order_qty_matrix @ order_selection_sol).sum()}\")\n",
    "\n",
    "print(f'saving to {filename}_result.xlsx')\n",
    "orders_df['should_deliver'] = orders_df['order_index'].map(dict(enumerate(order_selection_sol)))\n",
    "o_df = orders_df[['order_id', 'article_id', 'quantity', 'should_deliver']]\n",
    "o_df.to_excel(f'{filename}_result.xlsx')\n",
    "\n",
    "o_df[should_deliver.astype(bool)]"
   ]
  },
  {
   "cell_type": "code",
   "execution_count": 13,
   "id": "a4111971",
   "metadata": {},
   "outputs": [
    {
     "data": {
      "text/html": [
       "<div>\n",
       "<style scoped>\n",
       "    .dataframe tbody tr th:only-of-type {\n",
       "        vertical-align: middle;\n",
       "    }\n",
       "\n",
       "    .dataframe tbody tr th {\n",
       "        vertical-align: top;\n",
       "    }\n",
       "\n",
       "    .dataframe thead th {\n",
       "        text-align: right;\n",
       "    }\n",
       "</style>\n",
       "<table border=\"1\" class=\"dataframe\">\n",
       "  <thead>\n",
       "    <tr style=\"text-align: right;\">\n",
       "      <th></th>\n",
       "      <th>order_id</th>\n",
       "      <th>should_deliver</th>\n",
       "    </tr>\n",
       "  </thead>\n",
       "  <tbody>\n",
       "    <tr>\n",
       "      <th>0</th>\n",
       "      <td>CNS1220201203452</td>\n",
       "      <td>0.0</td>\n",
       "    </tr>\n",
       "    <tr>\n",
       "      <th>1</th>\n",
       "      <td>CNS1220201205372</td>\n",
       "      <td>1.0</td>\n",
       "    </tr>\n",
       "    <tr>\n",
       "      <th>2</th>\n",
       "      <td>CNS1220210304774</td>\n",
       "      <td>0.0</td>\n",
       "    </tr>\n",
       "    <tr>\n",
       "      <th>3</th>\n",
       "      <td>CNS1220210500670</td>\n",
       "      <td>1.0</td>\n",
       "    </tr>\n",
       "    <tr>\n",
       "      <th>4</th>\n",
       "      <td>CNS1220210600314</td>\n",
       "      <td>1.0</td>\n",
       "    </tr>\n",
       "    <tr>\n",
       "      <th>...</th>\n",
       "      <td>...</td>\n",
       "      <td>...</td>\n",
       "    </tr>\n",
       "    <tr>\n",
       "      <th>4336</th>\n",
       "      <td>CPS1220230400022</td>\n",
       "      <td>0.0</td>\n",
       "    </tr>\n",
       "    <tr>\n",
       "      <th>4337</th>\n",
       "      <td>CPS1220230400023</td>\n",
       "      <td>1.0</td>\n",
       "    </tr>\n",
       "    <tr>\n",
       "      <th>4338</th>\n",
       "      <td>CPS1220230400024</td>\n",
       "      <td>0.0</td>\n",
       "    </tr>\n",
       "    <tr>\n",
       "      <th>4339</th>\n",
       "      <td>CPS1220230400025</td>\n",
       "      <td>1.0</td>\n",
       "    </tr>\n",
       "    <tr>\n",
       "      <th>4340</th>\n",
       "      <td>CPS1220230400026</td>\n",
       "      <td>0.0</td>\n",
       "    </tr>\n",
       "  </tbody>\n",
       "</table>\n",
       "<p>4341 rows × 2 columns</p>\n",
       "</div>"
      ],
      "text/plain": [
       "              order_id  should_deliver\n",
       "0     CNS1220201203452             0.0\n",
       "1     CNS1220201205372             1.0\n",
       "2     CNS1220210304774             0.0\n",
       "3     CNS1220210500670             1.0\n",
       "4     CNS1220210600314             1.0\n",
       "...                ...             ...\n",
       "4336  CPS1220230400022             0.0\n",
       "4337  CPS1220230400023             1.0\n",
       "4338  CPS1220230400024             0.0\n",
       "4339  CPS1220230400025             1.0\n",
       "4340  CPS1220230400026             0.0\n",
       "\n",
       "[4341 rows x 2 columns]"
      ]
     },
     "execution_count": 13,
     "metadata": {},
     "output_type": "execute_result"
    }
   ],
   "source": [
    "o_df[['order_id', 'should_deliver']].groupby(['order_id', 'should_deliver']).min().reset_index()"
   ]
  },
  {
   "cell_type": "code",
   "execution_count": 20,
   "id": "c665a416",
   "metadata": {},
   "outputs": [
    {
     "data": {
      "text/plain": [
       "66813"
      ]
     },
     "execution_count": 20,
     "metadata": {},
     "output_type": "execute_result"
    }
   ],
   "source": [
    "orders_df[should_deliver.astype(bool)].quantity.sum()"
   ]
  },
  {
   "cell_type": "code",
   "execution_count": 19,
   "id": "61572aa9",
   "metadata": {},
   "outputs": [
    {
     "data": {
      "text/plain": [
       "66402.0"
      ]
     },
     "execution_count": 19,
     "metadata": {},
     "output_type": "execute_result"
    }
   ],
   "source": [
    "(order_qty_matrix @ order_selection_sol).sum()"
   ]
  }
 ],
 "metadata": {
  "kernelspec": {
   "display_name": "Python 3 (ipykernel)",
   "language": "python",
   "name": "python3"
  },
  "language_info": {
   "codemirror_mode": {
    "name": "ipython",
    "version": 3
   },
   "file_extension": ".py",
   "mimetype": "text/x-python",
   "name": "python",
   "nbconvert_exporter": "python",
   "pygments_lexer": "ipython3",
   "version": "3.9.16"
  }
 },
 "nbformat": 4,
 "nbformat_minor": 5
}
